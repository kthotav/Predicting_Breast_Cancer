{
 "cells": [
  {
   "cell_type": "code",
   "execution_count": 17,
   "metadata": {},
   "outputs": [],
   "source": [
    "import numpy as np\n",
    "from numpy.random import rand\n",
    "import pandas as pd \n",
    "from pandas import Series, DataFrame\n",
    "import math\n",
    "import scipy\n",
    "\n",
    "import matplotlib.pyplot as plt\n",
    "from matplotlib import rcParams\n",
    "import seaborn as sb\n",
    "\n",
    "import sklearn\n",
    "from sklearn.neighbors import KNeighborsClassifier\n",
    "from sklearn import neighbors\n",
    "from sklearn import preprocessing\n",
    "from sklearn import model_selection\n",
    "from sklearn import metrics"
   ]
  },
  {
   "cell_type": "code",
   "execution_count": 18,
   "metadata": {},
   "outputs": [],
   "source": [
    "%matplotlib inline\n",
    "rcParams['figure.figsize'] = 5, 4\n",
    "sb.set_style('whitegrid')"
   ]
  },
  {
   "cell_type": "markdown",
   "metadata": {},
   "source": [
    "### Background\n",
    "Breast cancer is an uncontrolled growth of breast cells. Breast cancer occurs as a result of mutations, or abnormal changes, in the genes responsible for regulating the growth of cells and keeping them healthy. A tumor can be benign or malignant.*\n",
    "\n",
    "\\*Source: http://www.breastcancer.org/symptoms/understand_bc/what_is_bc\n",
    "\n",
    "\n",
    "### Data\n",
    "Dataset source: https://archive.ics.uci.edu/ml/datasets/Breast+Cancer+Wisconsin+(Diagnostic)"
   ]
  },
  {
   "cell_type": "markdown",
   "metadata": {},
   "source": [
    "### Attributes\n",
    "\n",
    "* id_number - Sample code number\n",
    "* bclump_thickness - Clump Thickness (1 - 10)\n",
    "* cell_size - Uniformity of Cell Size (1 - 10)\n",
    "* cell_shape - Uniformity of Cell Shape (1 - 10)\n",
    "* marginal_adhesion - Marginal Adhesion (1 - 10)\n",
    "* epi_cell_size - Single Epithelial Cell Size (1 - 10)\n",
    "* bare_nuclei - Bare Nuclei (1 - 10)\n",
    "* bland_chromatin - Bland Chromatin (1 - 10)\n",
    "* normal_nucleoli - Normal Nucleoli (1 - 10)\n",
    "* mitoses -  Mitoses (1 - 10)\n",
    "* class - Class (2 for benign, 4 for malignant)"
   ]
  },
  {
   "cell_type": "code",
   "execution_count": 19,
   "metadata": {},
   "outputs": [],
   "source": [
    "# read file\n",
    "f = open('breast-cancer-wisconsin.data.txt', 'r')\n",
    "data = f.read()\n",
    "data = data.split('\\n')\n",
    "\n",
    "# 2d array\n",
    "data_arr = []\n",
    "for row in data:\n",
    "    row_split = row.split(\",\")\n",
    "    data_arr.append(row_split)\n",
    "data_arr\n",
    "\n",
    "# create a DF\n",
    "data_df = pd.DataFrame(data_arr)\n",
    "\n",
    "# asssign column names\n",
    "column_names = [\"id_number\", \"clump_thickness\", \"cell_size\",\"cell_shape\", \"marginal_adhesion\", \"epi_cell_size\", \"bare_nuclei\", \"bland_chromatin\", \"normal_nucleoli\", \"mitoses\", \"class\"]\n",
    "data_df.columns = column_names"
   ]
  },
  {
   "cell_type": "markdown",
   "metadata": {},
   "source": [
    "### Cleaning Data"
   ]
  },
  {
   "cell_type": "code",
   "execution_count": 20,
   "metadata": {},
   "outputs": [
    {
     "data": {
      "text/plain": [
       "clump_thickness      object\n",
       "cell_size            object\n",
       "cell_shape           object\n",
       "marginal_adhesion    object\n",
       "epi_cell_size        object\n",
       "bare_nuclei          object\n",
       "bland_chromatin      object\n",
       "normal_nucleoli      object\n",
       "mitoses              object\n",
       "class                object\n",
       "dtype: object"
      ]
     },
     "execution_count": 20,
     "metadata": {},
     "output_type": "execute_result"
    }
   ],
   "source": [
    "# drop id - since it's a feature that is not useful for arithmetic differences between features\n",
    "data_df = data_df.drop(['id_number'], axis=1)\n",
    "\n",
    "# replace unknown character `?` with -99999\n",
    "data_df.replace(\"?\", -99999, inplace=True)\n",
    "\n",
    "# remove last row 699 - because it has NaN values\n",
    "data_df = data_df.drop(data_df.index[699])\n",
    "data_df.tail()\n",
    "data_df.dtypes"
   ]
  },
  {
   "cell_type": "markdown",
   "metadata": {},
   "source": [
    "### Confirm Data is Cleaned"
   ]
  },
  {
   "cell_type": "code",
   "execution_count": 21,
   "metadata": {},
   "outputs": [
    {
     "data": {
      "text/plain": [
       "clump_thickness      0\n",
       "cell_size            0\n",
       "cell_shape           0\n",
       "marginal_adhesion    0\n",
       "epi_cell_size        0\n",
       "bare_nuclei          0\n",
       "bland_chromatin      0\n",
       "normal_nucleoli      0\n",
       "mitoses              0\n",
       "class                0\n",
       "dtype: int64"
      ]
     },
     "execution_count": 21,
     "metadata": {},
     "output_type": "execute_result"
    }
   ],
   "source": [
    "data_df.isnull().sum()"
   ]
  },
  {
   "cell_type": "markdown",
   "metadata": {},
   "source": [
    "### Preparing Data Set for K-NN Classification"
   ]
  },
  {
   "cell_type": "code",
   "execution_count": 22,
   "metadata": {},
   "outputs": [],
   "source": [
    "# Extract all labeled features except 'class'\n",
    "X = data_df.drop(['class'], axis=1)\n",
    "\n",
    "# Extract only 'class'\n",
    "y = data_df['class']"
   ]
  },
  {
   "cell_type": "code",
   "execution_count": 23,
   "metadata": {},
   "outputs": [],
   "source": [
    "# Split our data set for training and testing. Test size: 33%\n",
    "x_train, x_test, y_train, y_test = model_selection.train_test_split(X, y, test_size=0.33, random_state=17)"
   ]
  },
  {
   "cell_type": "code",
   "execution_count": 24,
   "metadata": {},
   "outputs": [
    {
     "name": "stdout",
     "output_type": "stream",
     "text": [
      "KNeighborsClassifier(algorithm='auto', leaf_size=30, metric='minkowski',\n",
      "           metric_params=None, n_jobs=1, n_neighbors=5, p=2,\n",
      "           weights='uniform')\n"
     ]
    }
   ],
   "source": [
    "# Create a KNeighborsClassifier instance\n",
    "clf = neighbors.KNeighborsClassifier()\n",
    "\n",
    "# Train the model with training data set\n",
    "clf.fit(x_train, y_train)\n",
    "\n",
    "print(clf)"
   ]
  },
  {
   "cell_type": "code",
   "execution_count": 25,
   "metadata": {},
   "outputs": [
    {
     "name": "stdout",
     "output_type": "stream",
     "text": [
      "0.974025974025974\n"
     ]
    }
   ],
   "source": [
    "# check for model score\n",
    "accuracy = clf.score(x_test, y_test)\n",
    "print(accuracy) "
   ]
  },
  {
   "cell_type": "markdown",
   "metadata": {},
   "source": [
    "### Findings\n",
    "Wow 97% is a really a good score for our model!! "
   ]
  },
  {
   "cell_type": "code",
   "execution_count": 26,
   "metadata": {},
   "outputs": [
    {
     "name": "stdout",
     "output_type": "stream",
     "text": [
      "             precision    recall  f1-score   support\n",
      "\n",
      "          2       0.98      0.98      0.98       156\n",
      "          4       0.96      0.96      0.96        75\n",
      "\n",
      "avg / total       0.97      0.97      0.97       231\n",
      "\n"
     ]
    }
   ],
   "source": [
    "y_expect = y_test\n",
    "\n",
    "# Predict with test data set \n",
    "y_predict = clf.predict(x_test)\n",
    "\n",
    "# classification report\n",
    "print(metrics.classification_report(y_expect, y_predict))"
   ]
  },
  {
   "cell_type": "markdown",
   "metadata": {},
   "source": [
    "### Predictions"
   ]
  },
  {
   "cell_type": "code",
   "execution_count": 27,
   "metadata": {},
   "outputs": [
    {
     "name": "stdout",
     "output_type": "stream",
     "text": [
      "['2']\n"
     ]
    }
   ],
   "source": [
    "predict_measure_one = np.array([4,2, 1, 1, 1, 2, 3, 2, 1])\n",
    "predict_measure_one = predict_measure_one.reshape(1, -1)\n",
    "prediction_one = clf.predict(predict_measure_one)\n",
    "print(prediction_one)"
   ]
  },
  {
   "cell_type": "markdown",
   "metadata": {},
   "source": [
    "### Results\n",
    "\n",
    "The model's accuracy score is 97% which means when we pass in new unlabeled data, we can predict with high confidence whether the tumor is benign or malignant."
   ]
  },
  {
   "cell_type": "markdown",
   "metadata": {},
   "source": [
    "Author: Venkata Karthik Thota  \n",
    "kthotav@gmail.com  \n",
    "https://www.linkedin.com/in/kthotav/"
   ]
  },
  {
   "cell_type": "code",
   "execution_count": null,
   "metadata": {},
   "outputs": [],
   "source": []
  }
 ],
 "metadata": {
  "kernelspec": {
   "display_name": "Python 3",
   "language": "python",
   "name": "python3"
  },
  "language_info": {
   "codemirror_mode": {
    "name": "ipython",
    "version": 3
   },
   "file_extension": ".py",
   "mimetype": "text/x-python",
   "name": "python",
   "nbconvert_exporter": "python",
   "pygments_lexer": "ipython3",
   "version": "3.6.4"
  }
 },
 "nbformat": 4,
 "nbformat_minor": 2
}
